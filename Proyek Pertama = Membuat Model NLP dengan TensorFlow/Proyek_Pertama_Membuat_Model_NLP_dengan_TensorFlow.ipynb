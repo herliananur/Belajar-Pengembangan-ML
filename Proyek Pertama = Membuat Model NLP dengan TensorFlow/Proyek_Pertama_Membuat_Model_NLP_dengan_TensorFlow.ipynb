{
  "nbformat": 4,
  "nbformat_minor": 0,
  "metadata": {
    "colab": {
      "provenance": []
    },
    "kernelspec": {
      "name": "python3",
      "display_name": "Python 3"
    },
    "language_info": {
      "name": "python"
    }
  },
  "cells": [
    {
      "cell_type": "markdown",
      "source": [
        "Herliana Nur Ekawati\n",
        "\n",
        "NIM 11201038\n",
        "\n",
        "Grup M07"
      ],
      "metadata": {
        "id": "fr2tjI7qZTo9"
      }
    },
    {
      "cell_type": "markdown",
      "source": [
        "Sumber dataset: https://www.kaggle.com/datasets/gregorut/videogamesales"
      ],
      "metadata": {
        "id": "bus1d058Yej0"
      }
    },
    {
      "cell_type": "markdown",
      "source": [
        "Impor library pandas dan ubah dataset menjadi dataframe. Kemudian munculkan kolom hanya Name, Genre, dan Publisher sebagai atribut untuk dilatih"
      ],
      "metadata": {
        "id": "sn88lh4lYklM"
      }
    },
    {
      "cell_type": "code",
      "execution_count": null,
      "metadata": {
        "id": "be7diu59Q-Ih"
      },
      "outputs": [],
      "source": [
        "import pandas as pd\n",
        "df = pd.read_csv('vgsales.csv')\n",
        "df = df[['Name', 'Genre', 'Publisher']]"
      ]
    },
    {
      "cell_type": "markdown",
      "source": [
        "Untuk menampilkan sampel"
      ],
      "metadata": {
        "id": "jlw3mrk3MVIt"
      }
    },
    {
      "cell_type": "code",
      "source": [
        "df"
      ],
      "metadata": {
        "colab": {
          "base_uri": "https://localhost:8080/",
          "height": 424
        },
        "id": "LlHfVMlfMXrl",
        "outputId": "a51eeaac-ce98-4cb5-88f8-82bdaf371063"
      },
      "execution_count": null,
      "outputs": [
        {
          "output_type": "execute_result",
          "data": {
            "text/plain": [
              "                                                   Name         Genre  \\\n",
              "0                                            Wii Sports        Sports   \n",
              "1                                     Super Mario Bros.      Platform   \n",
              "2                                        Mario Kart Wii        Racing   \n",
              "3                                     Wii Sports Resort        Sports   \n",
              "4                              Pokemon Red/Pokemon Blue  Role-Playing   \n",
              "...                                                 ...           ...   \n",
              "16593                Woody Woodpecker in Crazy Castle 5      Platform   \n",
              "16594                     Men in Black II: Alien Escape       Shooter   \n",
              "16595  SCORE International Baja 1000: The Official Game        Racing   \n",
              "16596                                        Know How 2        Puzzle   \n",
              "16597                                  Spirits & Spells      Platform   \n",
              "\n",
              "        Publisher  \n",
              "0        Nintendo  \n",
              "1        Nintendo  \n",
              "2        Nintendo  \n",
              "3        Nintendo  \n",
              "4        Nintendo  \n",
              "...           ...  \n",
              "16593       Kemco  \n",
              "16594  Infogrames  \n",
              "16595  Activision  \n",
              "16596    7G//AMES  \n",
              "16597     Wanadoo  \n",
              "\n",
              "[16598 rows x 3 columns]"
            ],
            "text/html": [
              "\n",
              "  <div id=\"df-98002b65-0e08-40d7-8542-95ada355a8f7\">\n",
              "    <div class=\"colab-df-container\">\n",
              "      <div>\n",
              "<style scoped>\n",
              "    .dataframe tbody tr th:only-of-type {\n",
              "        vertical-align: middle;\n",
              "    }\n",
              "\n",
              "    .dataframe tbody tr th {\n",
              "        vertical-align: top;\n",
              "    }\n",
              "\n",
              "    .dataframe thead th {\n",
              "        text-align: right;\n",
              "    }\n",
              "</style>\n",
              "<table border=\"1\" class=\"dataframe\">\n",
              "  <thead>\n",
              "    <tr style=\"text-align: right;\">\n",
              "      <th></th>\n",
              "      <th>Name</th>\n",
              "      <th>Genre</th>\n",
              "      <th>Publisher</th>\n",
              "    </tr>\n",
              "  </thead>\n",
              "  <tbody>\n",
              "    <tr>\n",
              "      <th>0</th>\n",
              "      <td>Wii Sports</td>\n",
              "      <td>Sports</td>\n",
              "      <td>Nintendo</td>\n",
              "    </tr>\n",
              "    <tr>\n",
              "      <th>1</th>\n",
              "      <td>Super Mario Bros.</td>\n",
              "      <td>Platform</td>\n",
              "      <td>Nintendo</td>\n",
              "    </tr>\n",
              "    <tr>\n",
              "      <th>2</th>\n",
              "      <td>Mario Kart Wii</td>\n",
              "      <td>Racing</td>\n",
              "      <td>Nintendo</td>\n",
              "    </tr>\n",
              "    <tr>\n",
              "      <th>3</th>\n",
              "      <td>Wii Sports Resort</td>\n",
              "      <td>Sports</td>\n",
              "      <td>Nintendo</td>\n",
              "    </tr>\n",
              "    <tr>\n",
              "      <th>4</th>\n",
              "      <td>Pokemon Red/Pokemon Blue</td>\n",
              "      <td>Role-Playing</td>\n",
              "      <td>Nintendo</td>\n",
              "    </tr>\n",
              "    <tr>\n",
              "      <th>...</th>\n",
              "      <td>...</td>\n",
              "      <td>...</td>\n",
              "      <td>...</td>\n",
              "    </tr>\n",
              "    <tr>\n",
              "      <th>16593</th>\n",
              "      <td>Woody Woodpecker in Crazy Castle 5</td>\n",
              "      <td>Platform</td>\n",
              "      <td>Kemco</td>\n",
              "    </tr>\n",
              "    <tr>\n",
              "      <th>16594</th>\n",
              "      <td>Men in Black II: Alien Escape</td>\n",
              "      <td>Shooter</td>\n",
              "      <td>Infogrames</td>\n",
              "    </tr>\n",
              "    <tr>\n",
              "      <th>16595</th>\n",
              "      <td>SCORE International Baja 1000: The Official Game</td>\n",
              "      <td>Racing</td>\n",
              "      <td>Activision</td>\n",
              "    </tr>\n",
              "    <tr>\n",
              "      <th>16596</th>\n",
              "      <td>Know How 2</td>\n",
              "      <td>Puzzle</td>\n",
              "      <td>7G//AMES</td>\n",
              "    </tr>\n",
              "    <tr>\n",
              "      <th>16597</th>\n",
              "      <td>Spirits &amp; Spells</td>\n",
              "      <td>Platform</td>\n",
              "      <td>Wanadoo</td>\n",
              "    </tr>\n",
              "  </tbody>\n",
              "</table>\n",
              "<p>16598 rows × 3 columns</p>\n",
              "</div>\n",
              "      <button class=\"colab-df-convert\" onclick=\"convertToInteractive('df-98002b65-0e08-40d7-8542-95ada355a8f7')\"\n",
              "              title=\"Convert this dataframe to an interactive table.\"\n",
              "              style=\"display:none;\">\n",
              "        \n",
              "  <svg xmlns=\"http://www.w3.org/2000/svg\" height=\"24px\"viewBox=\"0 0 24 24\"\n",
              "       width=\"24px\">\n",
              "    <path d=\"M0 0h24v24H0V0z\" fill=\"none\"/>\n",
              "    <path d=\"M18.56 5.44l.94 2.06.94-2.06 2.06-.94-2.06-.94-.94-2.06-.94 2.06-2.06.94zm-11 1L8.5 8.5l.94-2.06 2.06-.94-2.06-.94L8.5 2.5l-.94 2.06-2.06.94zm10 10l.94 2.06.94-2.06 2.06-.94-2.06-.94-.94-2.06-.94 2.06-2.06.94z\"/><path d=\"M17.41 7.96l-1.37-1.37c-.4-.4-.92-.59-1.43-.59-.52 0-1.04.2-1.43.59L10.3 9.45l-7.72 7.72c-.78.78-.78 2.05 0 2.83L4 21.41c.39.39.9.59 1.41.59.51 0 1.02-.2 1.41-.59l7.78-7.78 2.81-2.81c.8-.78.8-2.07 0-2.86zM5.41 20L4 18.59l7.72-7.72 1.47 1.35L5.41 20z\"/>\n",
              "  </svg>\n",
              "      </button>\n",
              "      \n",
              "  <style>\n",
              "    .colab-df-container {\n",
              "      display:flex;\n",
              "      flex-wrap:wrap;\n",
              "      gap: 12px;\n",
              "    }\n",
              "\n",
              "    .colab-df-convert {\n",
              "      background-color: #E8F0FE;\n",
              "      border: none;\n",
              "      border-radius: 50%;\n",
              "      cursor: pointer;\n",
              "      display: none;\n",
              "      fill: #1967D2;\n",
              "      height: 32px;\n",
              "      padding: 0 0 0 0;\n",
              "      width: 32px;\n",
              "    }\n",
              "\n",
              "    .colab-df-convert:hover {\n",
              "      background-color: #E2EBFA;\n",
              "      box-shadow: 0px 1px 2px rgba(60, 64, 67, 0.3), 0px 1px 3px 1px rgba(60, 64, 67, 0.15);\n",
              "      fill: #174EA6;\n",
              "    }\n",
              "\n",
              "    [theme=dark] .colab-df-convert {\n",
              "      background-color: #3B4455;\n",
              "      fill: #D2E3FC;\n",
              "    }\n",
              "\n",
              "    [theme=dark] .colab-df-convert:hover {\n",
              "      background-color: #434B5C;\n",
              "      box-shadow: 0px 1px 3px 1px rgba(0, 0, 0, 0.15);\n",
              "      filter: drop-shadow(0px 1px 2px rgba(0, 0, 0, 0.3));\n",
              "      fill: #FFFFFF;\n",
              "    }\n",
              "  </style>\n",
              "\n",
              "      <script>\n",
              "        const buttonEl =\n",
              "          document.querySelector('#df-98002b65-0e08-40d7-8542-95ada355a8f7 button.colab-df-convert');\n",
              "        buttonEl.style.display =\n",
              "          google.colab.kernel.accessAllowed ? 'block' : 'none';\n",
              "\n",
              "        async function convertToInteractive(key) {\n",
              "          const element = document.querySelector('#df-98002b65-0e08-40d7-8542-95ada355a8f7');\n",
              "          const dataTable =\n",
              "            await google.colab.kernel.invokeFunction('convertToInteractive',\n",
              "                                                     [key], {});\n",
              "          if (!dataTable) return;\n",
              "\n",
              "          const docLinkHtml = 'Like what you see? Visit the ' +\n",
              "            '<a target=\"_blank\" href=https://colab.research.google.com/notebooks/data_table.ipynb>data table notebook</a>'\n",
              "            + ' to learn more about interactive tables.';\n",
              "          element.innerHTML = '';\n",
              "          dataTable['output_type'] = 'display_data';\n",
              "          await google.colab.output.renderOutput(dataTable, element);\n",
              "          const docLink = document.createElement('div');\n",
              "          docLink.innerHTML = docLinkHtml;\n",
              "          element.appendChild(docLink);\n",
              "        }\n",
              "      </script>\n",
              "    </div>\n",
              "  </div>\n",
              "  "
            ]
          },
          "metadata": {},
          "execution_count": 70
        }
      ]
    },
    {
      "cell_type": "markdown",
      "source": [
        "Melakukan proses one-hot-encoding"
      ],
      "metadata": {
        "id": "c-OH2IzGMDNc"
      }
    },
    {
      "cell_type": "code",
      "source": [
        "category = pd.get_dummies(df.Genre)\n",
        "df_baru = pd.concat([df, category], axis=1)\n",
        "df_baru = df_baru.drop(columns='Genre')\n",
        "df_baru"
      ],
      "metadata": {
        "colab": {
          "base_uri": "https://localhost:8080/",
          "height": 502
        },
        "id": "qSKR2mP6MfwF",
        "outputId": "ac0993f6-6a03-460f-9c40-0ea2a9e62a80"
      },
      "execution_count": null,
      "outputs": [
        {
          "output_type": "execute_result",
          "data": {
            "text/plain": [
              "                                                   Name   Publisher  Action  \\\n",
              "0                                            Wii Sports    Nintendo       0   \n",
              "1                                     Super Mario Bros.    Nintendo       0   \n",
              "2                                        Mario Kart Wii    Nintendo       0   \n",
              "3                                     Wii Sports Resort    Nintendo       0   \n",
              "4                              Pokemon Red/Pokemon Blue    Nintendo       0   \n",
              "...                                                 ...         ...     ...   \n",
              "16593                Woody Woodpecker in Crazy Castle 5       Kemco       0   \n",
              "16594                     Men in Black II: Alien Escape  Infogrames       0   \n",
              "16595  SCORE International Baja 1000: The Official Game  Activision       0   \n",
              "16596                                        Know How 2    7G//AMES       0   \n",
              "16597                                  Spirits & Spells     Wanadoo       0   \n",
              "\n",
              "       Adventure  Fighting  Misc  Platform  Puzzle  Racing  Role-Playing  \\\n",
              "0              0         0     0         0       0       0             0   \n",
              "1              0         0     0         1       0       0             0   \n",
              "2              0         0     0         0       0       1             0   \n",
              "3              0         0     0         0       0       0             0   \n",
              "4              0         0     0         0       0       0             1   \n",
              "...          ...       ...   ...       ...     ...     ...           ...   \n",
              "16593          0         0     0         1       0       0             0   \n",
              "16594          0         0     0         0       0       0             0   \n",
              "16595          0         0     0         0       0       1             0   \n",
              "16596          0         0     0         0       1       0             0   \n",
              "16597          0         0     0         1       0       0             0   \n",
              "\n",
              "       Shooter  Simulation  Sports  Strategy  \n",
              "0            0           0       1         0  \n",
              "1            0           0       0         0  \n",
              "2            0           0       0         0  \n",
              "3            0           0       1         0  \n",
              "4            0           0       0         0  \n",
              "...        ...         ...     ...       ...  \n",
              "16593        0           0       0         0  \n",
              "16594        1           0       0         0  \n",
              "16595        0           0       0         0  \n",
              "16596        0           0       0         0  \n",
              "16597        0           0       0         0  \n",
              "\n",
              "[16598 rows x 14 columns]"
            ],
            "text/html": [
              "\n",
              "  <div id=\"df-80a6e118-ae50-4289-ae29-2c2f2a9f0185\">\n",
              "    <div class=\"colab-df-container\">\n",
              "      <div>\n",
              "<style scoped>\n",
              "    .dataframe tbody tr th:only-of-type {\n",
              "        vertical-align: middle;\n",
              "    }\n",
              "\n",
              "    .dataframe tbody tr th {\n",
              "        vertical-align: top;\n",
              "    }\n",
              "\n",
              "    .dataframe thead th {\n",
              "        text-align: right;\n",
              "    }\n",
              "</style>\n",
              "<table border=\"1\" class=\"dataframe\">\n",
              "  <thead>\n",
              "    <tr style=\"text-align: right;\">\n",
              "      <th></th>\n",
              "      <th>Name</th>\n",
              "      <th>Publisher</th>\n",
              "      <th>Action</th>\n",
              "      <th>Adventure</th>\n",
              "      <th>Fighting</th>\n",
              "      <th>Misc</th>\n",
              "      <th>Platform</th>\n",
              "      <th>Puzzle</th>\n",
              "      <th>Racing</th>\n",
              "      <th>Role-Playing</th>\n",
              "      <th>Shooter</th>\n",
              "      <th>Simulation</th>\n",
              "      <th>Sports</th>\n",
              "      <th>Strategy</th>\n",
              "    </tr>\n",
              "  </thead>\n",
              "  <tbody>\n",
              "    <tr>\n",
              "      <th>0</th>\n",
              "      <td>Wii Sports</td>\n",
              "      <td>Nintendo</td>\n",
              "      <td>0</td>\n",
              "      <td>0</td>\n",
              "      <td>0</td>\n",
              "      <td>0</td>\n",
              "      <td>0</td>\n",
              "      <td>0</td>\n",
              "      <td>0</td>\n",
              "      <td>0</td>\n",
              "      <td>0</td>\n",
              "      <td>0</td>\n",
              "      <td>1</td>\n",
              "      <td>0</td>\n",
              "    </tr>\n",
              "    <tr>\n",
              "      <th>1</th>\n",
              "      <td>Super Mario Bros.</td>\n",
              "      <td>Nintendo</td>\n",
              "      <td>0</td>\n",
              "      <td>0</td>\n",
              "      <td>0</td>\n",
              "      <td>0</td>\n",
              "      <td>1</td>\n",
              "      <td>0</td>\n",
              "      <td>0</td>\n",
              "      <td>0</td>\n",
              "      <td>0</td>\n",
              "      <td>0</td>\n",
              "      <td>0</td>\n",
              "      <td>0</td>\n",
              "    </tr>\n",
              "    <tr>\n",
              "      <th>2</th>\n",
              "      <td>Mario Kart Wii</td>\n",
              "      <td>Nintendo</td>\n",
              "      <td>0</td>\n",
              "      <td>0</td>\n",
              "      <td>0</td>\n",
              "      <td>0</td>\n",
              "      <td>0</td>\n",
              "      <td>0</td>\n",
              "      <td>1</td>\n",
              "      <td>0</td>\n",
              "      <td>0</td>\n",
              "      <td>0</td>\n",
              "      <td>0</td>\n",
              "      <td>0</td>\n",
              "    </tr>\n",
              "    <tr>\n",
              "      <th>3</th>\n",
              "      <td>Wii Sports Resort</td>\n",
              "      <td>Nintendo</td>\n",
              "      <td>0</td>\n",
              "      <td>0</td>\n",
              "      <td>0</td>\n",
              "      <td>0</td>\n",
              "      <td>0</td>\n",
              "      <td>0</td>\n",
              "      <td>0</td>\n",
              "      <td>0</td>\n",
              "      <td>0</td>\n",
              "      <td>0</td>\n",
              "      <td>1</td>\n",
              "      <td>0</td>\n",
              "    </tr>\n",
              "    <tr>\n",
              "      <th>4</th>\n",
              "      <td>Pokemon Red/Pokemon Blue</td>\n",
              "      <td>Nintendo</td>\n",
              "      <td>0</td>\n",
              "      <td>0</td>\n",
              "      <td>0</td>\n",
              "      <td>0</td>\n",
              "      <td>0</td>\n",
              "      <td>0</td>\n",
              "      <td>0</td>\n",
              "      <td>1</td>\n",
              "      <td>0</td>\n",
              "      <td>0</td>\n",
              "      <td>0</td>\n",
              "      <td>0</td>\n",
              "    </tr>\n",
              "    <tr>\n",
              "      <th>...</th>\n",
              "      <td>...</td>\n",
              "      <td>...</td>\n",
              "      <td>...</td>\n",
              "      <td>...</td>\n",
              "      <td>...</td>\n",
              "      <td>...</td>\n",
              "      <td>...</td>\n",
              "      <td>...</td>\n",
              "      <td>...</td>\n",
              "      <td>...</td>\n",
              "      <td>...</td>\n",
              "      <td>...</td>\n",
              "      <td>...</td>\n",
              "      <td>...</td>\n",
              "    </tr>\n",
              "    <tr>\n",
              "      <th>16593</th>\n",
              "      <td>Woody Woodpecker in Crazy Castle 5</td>\n",
              "      <td>Kemco</td>\n",
              "      <td>0</td>\n",
              "      <td>0</td>\n",
              "      <td>0</td>\n",
              "      <td>0</td>\n",
              "      <td>1</td>\n",
              "      <td>0</td>\n",
              "      <td>0</td>\n",
              "      <td>0</td>\n",
              "      <td>0</td>\n",
              "      <td>0</td>\n",
              "      <td>0</td>\n",
              "      <td>0</td>\n",
              "    </tr>\n",
              "    <tr>\n",
              "      <th>16594</th>\n",
              "      <td>Men in Black II: Alien Escape</td>\n",
              "      <td>Infogrames</td>\n",
              "      <td>0</td>\n",
              "      <td>0</td>\n",
              "      <td>0</td>\n",
              "      <td>0</td>\n",
              "      <td>0</td>\n",
              "      <td>0</td>\n",
              "      <td>0</td>\n",
              "      <td>0</td>\n",
              "      <td>1</td>\n",
              "      <td>0</td>\n",
              "      <td>0</td>\n",
              "      <td>0</td>\n",
              "    </tr>\n",
              "    <tr>\n",
              "      <th>16595</th>\n",
              "      <td>SCORE International Baja 1000: The Official Game</td>\n",
              "      <td>Activision</td>\n",
              "      <td>0</td>\n",
              "      <td>0</td>\n",
              "      <td>0</td>\n",
              "      <td>0</td>\n",
              "      <td>0</td>\n",
              "      <td>0</td>\n",
              "      <td>1</td>\n",
              "      <td>0</td>\n",
              "      <td>0</td>\n",
              "      <td>0</td>\n",
              "      <td>0</td>\n",
              "      <td>0</td>\n",
              "    </tr>\n",
              "    <tr>\n",
              "      <th>16596</th>\n",
              "      <td>Know How 2</td>\n",
              "      <td>7G//AMES</td>\n",
              "      <td>0</td>\n",
              "      <td>0</td>\n",
              "      <td>0</td>\n",
              "      <td>0</td>\n",
              "      <td>0</td>\n",
              "      <td>1</td>\n",
              "      <td>0</td>\n",
              "      <td>0</td>\n",
              "      <td>0</td>\n",
              "      <td>0</td>\n",
              "      <td>0</td>\n",
              "      <td>0</td>\n",
              "    </tr>\n",
              "    <tr>\n",
              "      <th>16597</th>\n",
              "      <td>Spirits &amp; Spells</td>\n",
              "      <td>Wanadoo</td>\n",
              "      <td>0</td>\n",
              "      <td>0</td>\n",
              "      <td>0</td>\n",
              "      <td>0</td>\n",
              "      <td>1</td>\n",
              "      <td>0</td>\n",
              "      <td>0</td>\n",
              "      <td>0</td>\n",
              "      <td>0</td>\n",
              "      <td>0</td>\n",
              "      <td>0</td>\n",
              "      <td>0</td>\n",
              "    </tr>\n",
              "  </tbody>\n",
              "</table>\n",
              "<p>16598 rows × 14 columns</p>\n",
              "</div>\n",
              "      <button class=\"colab-df-convert\" onclick=\"convertToInteractive('df-80a6e118-ae50-4289-ae29-2c2f2a9f0185')\"\n",
              "              title=\"Convert this dataframe to an interactive table.\"\n",
              "              style=\"display:none;\">\n",
              "        \n",
              "  <svg xmlns=\"http://www.w3.org/2000/svg\" height=\"24px\"viewBox=\"0 0 24 24\"\n",
              "       width=\"24px\">\n",
              "    <path d=\"M0 0h24v24H0V0z\" fill=\"none\"/>\n",
              "    <path d=\"M18.56 5.44l.94 2.06.94-2.06 2.06-.94-2.06-.94-.94-2.06-.94 2.06-2.06.94zm-11 1L8.5 8.5l.94-2.06 2.06-.94-2.06-.94L8.5 2.5l-.94 2.06-2.06.94zm10 10l.94 2.06.94-2.06 2.06-.94-2.06-.94-.94-2.06-.94 2.06-2.06.94z\"/><path d=\"M17.41 7.96l-1.37-1.37c-.4-.4-.92-.59-1.43-.59-.52 0-1.04.2-1.43.59L10.3 9.45l-7.72 7.72c-.78.78-.78 2.05 0 2.83L4 21.41c.39.39.9.59 1.41.59.51 0 1.02-.2 1.41-.59l7.78-7.78 2.81-2.81c.8-.78.8-2.07 0-2.86zM5.41 20L4 18.59l7.72-7.72 1.47 1.35L5.41 20z\"/>\n",
              "  </svg>\n",
              "      </button>\n",
              "      \n",
              "  <style>\n",
              "    .colab-df-container {\n",
              "      display:flex;\n",
              "      flex-wrap:wrap;\n",
              "      gap: 12px;\n",
              "    }\n",
              "\n",
              "    .colab-df-convert {\n",
              "      background-color: #E8F0FE;\n",
              "      border: none;\n",
              "      border-radius: 50%;\n",
              "      cursor: pointer;\n",
              "      display: none;\n",
              "      fill: #1967D2;\n",
              "      height: 32px;\n",
              "      padding: 0 0 0 0;\n",
              "      width: 32px;\n",
              "    }\n",
              "\n",
              "    .colab-df-convert:hover {\n",
              "      background-color: #E2EBFA;\n",
              "      box-shadow: 0px 1px 2px rgba(60, 64, 67, 0.3), 0px 1px 3px 1px rgba(60, 64, 67, 0.15);\n",
              "      fill: #174EA6;\n",
              "    }\n",
              "\n",
              "    [theme=dark] .colab-df-convert {\n",
              "      background-color: #3B4455;\n",
              "      fill: #D2E3FC;\n",
              "    }\n",
              "\n",
              "    [theme=dark] .colab-df-convert:hover {\n",
              "      background-color: #434B5C;\n",
              "      box-shadow: 0px 1px 3px 1px rgba(0, 0, 0, 0.15);\n",
              "      filter: drop-shadow(0px 1px 2px rgba(0, 0, 0, 0.3));\n",
              "      fill: #FFFFFF;\n",
              "    }\n",
              "  </style>\n",
              "\n",
              "      <script>\n",
              "        const buttonEl =\n",
              "          document.querySelector('#df-80a6e118-ae50-4289-ae29-2c2f2a9f0185 button.colab-df-convert');\n",
              "        buttonEl.style.display =\n",
              "          google.colab.kernel.accessAllowed ? 'block' : 'none';\n",
              "\n",
              "        async function convertToInteractive(key) {\n",
              "          const element = document.querySelector('#df-80a6e118-ae50-4289-ae29-2c2f2a9f0185');\n",
              "          const dataTable =\n",
              "            await google.colab.kernel.invokeFunction('convertToInteractive',\n",
              "                                                     [key], {});\n",
              "          if (!dataTable) return;\n",
              "\n",
              "          const docLinkHtml = 'Like what you see? Visit the ' +\n",
              "            '<a target=\"_blank\" href=https://colab.research.google.com/notebooks/data_table.ipynb>data table notebook</a>'\n",
              "            + ' to learn more about interactive tables.';\n",
              "          element.innerHTML = '';\n",
              "          dataTable['output_type'] = 'display_data';\n",
              "          await google.colab.output.renderOutput(dataTable, element);\n",
              "          const docLink = document.createElement('div');\n",
              "          docLink.innerHTML = docLinkHtml;\n",
              "          element.appendChild(docLink);\n",
              "        }\n",
              "      </script>\n",
              "    </div>\n",
              "  </div>\n",
              "  "
            ]
          },
          "metadata": {},
          "execution_count": 71
        }
      ]
    },
    {
      "cell_type": "markdown",
      "source": [
        "Mengubah nilai-nilai dataframe ke dalam tipe data numpy array"
      ],
      "metadata": {
        "id": "zWrRovUqNTgf"
      }
    },
    {
      "cell_type": "code",
      "source": [
        "name = df_baru['Name'].values\n",
        "label = df_baru[['Action', 'Adventure', 'Fighting', 'Misc', 'Platform', 'Puzzle', 'Racing', 'Role-Playing', 'Shooter', 'Simulation', 'Sports', 'Strategy']].values"
      ],
      "metadata": {
        "id": "yOaj0au5NX5Z"
      },
      "execution_count": null,
      "outputs": []
    },
    {
      "cell_type": "markdown",
      "source": [
        "Bagi data untuk training dan untuk testing dengan data validasi 20%"
      ],
      "metadata": {
        "id": "NtGaWl0_OYux"
      }
    },
    {
      "cell_type": "code",
      "source": [
        "from sklearn.model_selection import train_test_split\n",
        "name_latih, name_test, label_latih, label_test = train_test_split(name, label, test_size=0.2)"
      ],
      "metadata": {
        "id": "KxnLSPHOOgDO"
      },
      "execution_count": null,
      "outputs": []
    },
    {
      "cell_type": "markdown",
      "source": [
        "Mengubah setiap kata pada dataset ke dalam bilangan numerik dengan Fungsi Tokenizer"
      ],
      "metadata": {
        "id": "dToTutABPQ91"
      }
    },
    {
      "cell_type": "code",
      "source": [
        "from tensorflow.keras.preprocessing.text import Tokenizer\n",
        "from tensorflow.keras.preprocessing.sequence import pad_sequences\n",
        "\n",
        "tokenizer = Tokenizer(num_words=5000, oov_token='x')\n",
        "tokenizer.fit_on_texts(name_latih)\n",
        "tokenizer.fit_on_texts(name_test)\n",
        "\n",
        "sekuens_latih = tokenizer.texts_to_sequences(name_latih)\n",
        "sekuens_test = tokenizer.texts_to_sequences(name_test)\n",
        "\n",
        "padded_latih = pad_sequences(sekuens_latih)\n",
        "padded_test = pad_sequences(sekuens_test)"
      ],
      "metadata": {
        "id": "xxAIKTn2PZum"
      },
      "execution_count": null,
      "outputs": []
    },
    {
      "cell_type": "markdown",
      "source": [
        "Embedding, LSTM"
      ],
      "metadata": {
        "id": "sROJtNiURA9v"
      }
    },
    {
      "cell_type": "code",
      "source": [
        "from tensorflow.python import metrics\n",
        "import tensorflow as tf\n",
        "model = tf.keras.Sequential([\n",
        "    tf.keras.layers.Embedding(input_dim=5000, output_dim=128),\n",
        "    tf.keras.layers.LSTM(64),\n",
        "    tf.keras.layers.Dense(128, activation='relu'),\n",
        "    tf.keras.layers.Dense(64, activation='relu'),\n",
        "    tf.keras.layers.Dense(12, activation='softmax')\n",
        "])\n",
        "model.compile(loss='categorical_crossentropy', optimizer='adam', metrics=['accuracy'])"
      ],
      "metadata": {
        "id": "GAM88OvGRJAK"
      },
      "execution_count": null,
      "outputs": []
    },
    {
      "cell_type": "markdown",
      "source": [
        "Callback"
      ],
      "metadata": {
        "id": "wOrRVjadUGUo"
      }
    },
    {
      "cell_type": "code",
      "source": [
        "class myCallback(tf.keras.callbacks.Callback):\n",
        "  def on_epoch_end(self, epoch, logs={}):\n",
        "    if(logs.get('val_accuracy')>0.97):\n",
        "      print(\"Training dihentikan karena akurasi telah mencapai 97%\")\n",
        "      self.model.stop_training = True\n",
        "\n",
        "callbacks = myCallback()"
      ],
      "metadata": {
        "id": "Yfx5HS0QUGpx"
      },
      "execution_count": null,
      "outputs": []
    },
    {
      "cell_type": "markdown",
      "source": [
        "Melatih model"
      ],
      "metadata": {
        "id": "RJ7AkS5ZR5CL"
      }
    },
    {
      "cell_type": "code",
      "source": [
        "num_epochs = 25\n",
        "history = model.fit(padded_latih, \n",
        "                    label_latih, \n",
        "                    epochs=num_epochs, \n",
        "                    validation_data=(padded_test, label_test),\n",
        "                    verbose=2,\n",
        "                    callbacks=[callbacks])"
      ],
      "metadata": {
        "colab": {
          "base_uri": "https://localhost:8080/"
        },
        "id": "3uFm90zBR62b",
        "outputId": "31339ece-dd78-4749-8969-5b0f657f9fcf"
      },
      "execution_count": null,
      "outputs": [
        {
          "output_type": "stream",
          "name": "stdout",
          "text": [
            "Epoch 1/25\n",
            "415/415 - 14s - loss: 1.8720 - accuracy: 0.3872 - val_loss: 1.3510 - val_accuracy: 0.5657 - 14s/epoch - 34ms/step\n",
            "Epoch 2/25\n",
            "415/415 - 11s - loss: 0.9544 - accuracy: 0.7116 - val_loss: 1.0023 - val_accuracy: 0.7078 - 11s/epoch - 27ms/step\n",
            "Epoch 3/25\n",
            "415/415 - 11s - loss: 0.6150 - accuracy: 0.8124 - val_loss: 0.9493 - val_accuracy: 0.7355 - 11s/epoch - 26ms/step\n",
            "Epoch 4/25\n",
            "415/415 - 11s - loss: 0.4666 - accuracy: 0.8560 - val_loss: 1.0052 - val_accuracy: 0.7383 - 11s/epoch - 26ms/step\n",
            "Epoch 5/25\n",
            "415/415 - 11s - loss: 0.3699 - accuracy: 0.8822 - val_loss: 1.0166 - val_accuracy: 0.7431 - 11s/epoch - 26ms/step\n",
            "Epoch 6/25\n",
            "415/415 - 12s - loss: 0.3061 - accuracy: 0.9007 - val_loss: 1.0406 - val_accuracy: 0.7551 - 12s/epoch - 29ms/step\n",
            "Epoch 7/25\n",
            "415/415 - 11s - loss: 0.2600 - accuracy: 0.9144 - val_loss: 1.2029 - val_accuracy: 0.7419 - 11s/epoch - 27ms/step\n",
            "Epoch 8/25\n",
            "415/415 - 11s - loss: 0.2202 - accuracy: 0.9257 - val_loss: 1.2321 - val_accuracy: 0.7539 - 11s/epoch - 26ms/step\n",
            "Epoch 9/25\n",
            "415/415 - 11s - loss: 0.1946 - accuracy: 0.9343 - val_loss: 1.3624 - val_accuracy: 0.7530 - 11s/epoch - 26ms/step\n",
            "Epoch 10/25\n",
            "415/415 - 12s - loss: 0.1730 - accuracy: 0.9398 - val_loss: 1.3998 - val_accuracy: 0.7476 - 12s/epoch - 29ms/step\n",
            "Epoch 11/25\n",
            "415/415 - 11s - loss: 0.1641 - accuracy: 0.9435 - val_loss: 1.4640 - val_accuracy: 0.7584 - 11s/epoch - 26ms/step\n",
            "Epoch 12/25\n",
            "415/415 - 11s - loss: 0.1454 - accuracy: 0.9506 - val_loss: 1.7082 - val_accuracy: 0.7596 - 11s/epoch - 27ms/step\n",
            "Epoch 13/25\n",
            "415/415 - 11s - loss: 0.1262 - accuracy: 0.9564 - val_loss: 1.7739 - val_accuracy: 0.7554 - 11s/epoch - 27ms/step\n",
            "Epoch 14/25\n",
            "415/415 - 11s - loss: 0.1232 - accuracy: 0.9576 - val_loss: 1.8034 - val_accuracy: 0.7599 - 11s/epoch - 26ms/step\n",
            "Epoch 15/25\n",
            "415/415 - 11s - loss: 0.1154 - accuracy: 0.9591 - val_loss: 1.9187 - val_accuracy: 0.7578 - 11s/epoch - 26ms/step\n",
            "Epoch 16/25\n",
            "415/415 - 11s - loss: 0.1191 - accuracy: 0.9598 - val_loss: 2.0109 - val_accuracy: 0.7557 - 11s/epoch - 27ms/step\n",
            "Epoch 17/25\n",
            "415/415 - 11s - loss: 0.1025 - accuracy: 0.9642 - val_loss: 2.0215 - val_accuracy: 0.7584 - 11s/epoch - 27ms/step\n",
            "Epoch 18/25\n",
            "415/415 - 11s - loss: 0.0919 - accuracy: 0.9686 - val_loss: 2.1734 - val_accuracy: 0.7539 - 11s/epoch - 27ms/step\n",
            "Epoch 19/25\n",
            "415/415 - 11s - loss: 0.0953 - accuracy: 0.9675 - val_loss: 2.1974 - val_accuracy: 0.7605 - 11s/epoch - 27ms/step\n",
            "Epoch 20/25\n",
            "415/415 - 11s - loss: 0.0948 - accuracy: 0.9679 - val_loss: 2.1783 - val_accuracy: 0.7599 - 11s/epoch - 27ms/step\n",
            "Epoch 21/25\n",
            "415/415 - 12s - loss: 0.0843 - accuracy: 0.9709 - val_loss: 2.2976 - val_accuracy: 0.7578 - 12s/epoch - 29ms/step\n",
            "Epoch 22/25\n",
            "415/415 - 11s - loss: 0.0793 - accuracy: 0.9724 - val_loss: 2.4230 - val_accuracy: 0.7548 - 11s/epoch - 26ms/step\n",
            "Epoch 23/25\n",
            "415/415 - 11s - loss: 0.0777 - accuracy: 0.9748 - val_loss: 2.4919 - val_accuracy: 0.7575 - 11s/epoch - 26ms/step\n",
            "Epoch 24/25\n",
            "415/415 - 11s - loss: 0.0757 - accuracy: 0.9729 - val_loss: 2.5014 - val_accuracy: 0.7623 - 11s/epoch - 26ms/step\n",
            "Epoch 25/25\n",
            "415/415 - 11s - loss: 0.0755 - accuracy: 0.9739 - val_loss: 2.5430 - val_accuracy: 0.7590 - 11s/epoch - 26ms/step\n"
          ]
        }
      ]
    },
    {
      "cell_type": "markdown",
      "source": [
        "Plot loss dan akurasi pada saat training dan validation"
      ],
      "metadata": {
        "id": "8dg3nr8MU06h"
      }
    },
    {
      "cell_type": "code",
      "source": [
        "import matplotlib.pyplot as plt\n",
        "\n",
        "acc = history.history['accuracy']\n",
        "val_acc = history.history['val_accuracy']\n",
        "loss = history.history['loss']\n",
        "val_loss = history.history['val_loss']\n",
        "\n",
        "epochs = range(len(acc))\n",
        "\n",
        "plt.title('Akurasi Training dan Validation')\n",
        "plt.plot(epochs, acc, 'r', label='Training')\n",
        "plt.plot(epochs, val_acc, 'b', label='Validation')\n",
        "plt.legend(loc=0)\n",
        "plt.figure()\n",
        "plt.show()\n",
        "\n",
        "epochs = range(len(loss))\n",
        "\n",
        "plt.title('Akurasi Loss dan Validation Loss')\n",
        "plt.plot(epochs, loss, 'g', label='Loss')\n",
        "plt.plot(epochs, val_loss, 'b', label='Validation Loss')\n",
        "plt.legend(loc=0)\n",
        "plt.figure()\n",
        "plt.show()"
      ],
      "metadata": {
        "colab": {
          "base_uri": "https://localhost:8080/",
          "height": 580
        },
        "id": "W06KXmxUU5f7",
        "outputId": "a8197a35-af03-44db-deb6-bd38a769ea87"
      },
      "execution_count": null,
      "outputs": [
        {
          "output_type": "display_data",
          "data": {
            "text/plain": [
              "<Figure size 432x288 with 1 Axes>"
            ],
            "image/png": "[encoded data removed]"
          },
          "metadata": {
            "needs_background": "light"
          }
        },
        {
          "output_type": "display_data",
          "data": {
            "text/plain": [
              "<Figure size 432x288 with 0 Axes>"
            ]
          },
          "metadata": {}
        },
        {
          "output_type": "display_data",
          "data": {
            "text/plain": [
              "<Figure size 432x288 with 1 Axes>"
            ],
            "image/png": "[encoded data removed]"
          },
          "metadata": {
            "needs_background": "light"
          }
        },
        {
          "output_type": "display_data",
          "data": {
            "text/plain": [
              "<Figure size 432x288 with 0 Axes>"
            ]
          },
          "metadata": {}
        }
      ]
    }
  ]
}