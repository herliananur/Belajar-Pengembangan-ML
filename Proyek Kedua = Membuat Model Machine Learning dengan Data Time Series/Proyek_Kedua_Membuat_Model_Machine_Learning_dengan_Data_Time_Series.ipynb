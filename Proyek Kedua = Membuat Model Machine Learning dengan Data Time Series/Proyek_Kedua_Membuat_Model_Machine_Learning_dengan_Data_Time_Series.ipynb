{
  "nbformat": 4,
  "nbformat_minor": 0,
  "metadata": {
    "colab": {
      "provenance": []
    },
    "kernelspec": {
      "name": "python3",
      "display_name": "Python 3"
    },
    "language_info": {
      "name": "python"
    },
    "accelerator": "GPU",
    "gpuClass": "standard"
  },
  "cells": [
    {
      "cell_type": "markdown",
      "source": [
        "Herliana Nur Ekawati\n",
        "\n",
        "NIM 11201038\n",
        "\n",
        "GRUP M07"
      ],
      "metadata": {
        "id": "Aa5H1EkA2iH5"
      }
    },
    {
      "cell_type": "markdown",
      "source": [
        "dataset: https://www.kaggle.com/datasets/syedjaferk/delhi-weather-dataset"
      ],
      "metadata": {
        "id": "gZVPFI0V-Q5d"
      }
    },
    {
      "cell_type": "code",
      "execution_count": null,
      "metadata": {
        "colab": {
          "base_uri": "https://localhost:8080/",
          "height": 661
        },
        "id": "CQqiaGkZ7Wv1",
        "outputId": "4c6caccb-6aca-4ce0-ca2f-b43b446b0350"
      },
      "outputs": [
        {
          "output_type": "execute_result",
          "data": {
            "text/plain": [
              "                          dt_txt   temp  temp_min  temp_max  pressure  \\\n",
              "0      2020-01-27 14:30:00+05:30  22.49     21.43     22.49      1012   \n",
              "1      2020-01-27 17:30:00+05:30  20.34     19.64     20.34      1010   \n",
              "2      2020-01-27 20:30:00+05:30  17.86     17.51     17.86      1012   \n",
              "3      2020-01-27 23:30:00+05:30  16.64     16.64     16.64      1011   \n",
              "4      2020-01-28 02:30:00+05:30  16.15     16.15     16.15      1010   \n",
              "...                          ...    ...       ...       ...       ...   \n",
              "15241  2021-02-20 02:30:00+05:30  19.62     19.62     19.62      1016   \n",
              "15242  2021-02-20 05:30:00+05:30  18.46     18.46     18.46      1015   \n",
              "15243  2021-02-20 08:30:00+05:30  19.84     19.84     19.84      1017   \n",
              "15244  2021-02-20 11:30:00+05:30  26.47     26.47     26.47      1018   \n",
              "15245  2021-02-20 14:30:00+05:30  29.70     29.70     29.70      1014   \n",
              "\n",
              "       sea_level  grnd_level  humidity    main       description  clouds  \\\n",
              "0           1012         985        38  Clouds     broken clouds      67   \n",
              "1           1010         983        42  Clouds     broken clouds      68   \n",
              "2           1012         985        48  Clouds  scattered clouds      35   \n",
              "3           1011         984        50  Clouds     broken clouds      66   \n",
              "4           1010         983        50  Clouds  scattered clouds      32   \n",
              "...          ...         ...       ...     ...               ...     ...   \n",
              "15241       1016         990        24   Clear         clear sky       0   \n",
              "15242       1015         990        26   Clear         clear sky       0   \n",
              "15243       1017         992        24   Clear         clear sky       0   \n",
              "15244       1018         992        16   Clear         clear sky       0   \n",
              "15245       1014         989        13   Clear         clear sky       0   \n",
              "\n",
              "       wind_speed  wind_degree        date       day time_of_record  \n",
              "0            2.35           54  2020-01-27    Monday       14:30:00  \n",
              "1            2.95          102  2020-01-27    Monday       17:30:00  \n",
              "2            2.60          106  2020-01-27    Monday       20:30:00  \n",
              "3            3.60          109  2020-01-27    Monday       23:30:00  \n",
              "4            2.82           59  2020-01-28   Tuesday       02:30:00  \n",
              "...           ...          ...         ...       ...            ...  \n",
              "15241        2.04          300  2021-02-20  Saturday       02:30:00  \n",
              "15242        1.18          268  2021-02-20  Saturday       05:30:00  \n",
              "15243        1.52          276  2021-02-20  Saturday       08:30:00  \n",
              "15244        2.22          237  2021-02-20  Saturday       11:30:00  \n",
              "15245        2.26          267  2021-02-20  Saturday       14:30:00  \n",
              "\n",
              "[15246 rows x 16 columns]"
            ],
            "text/html": [
              "\n",
              "  <div id=\"df-0572dd0a-8fec-4c2a-9c17-8844a09da67d\">\n",
              "    <div class=\"colab-df-container\">\n",
              "      <div>\n",
              "<style scoped>\n",
              "    .dataframe tbody tr th:only-of-type {\n",
              "        vertical-align: middle;\n",
              "    }\n",
              "\n",
              "    .dataframe tbody tr th {\n",
              "        vertical-align: top;\n",
              "    }\n",
              "\n",
              "    .dataframe thead th {\n",
              "        text-align: right;\n",
              "    }\n",
              "</style>\n",
              "<table border=\"1\" class=\"dataframe\">\n",
              "  <thead>\n",
              "    <tr style=\"text-align: right;\">\n",
              "      <th></th>\n",
              "      <th>dt_txt</th>\n",
              "      <th>temp</th>\n",
              "      <th>temp_min</th>\n",
              "      <th>temp_max</th>\n",
              "      <th>pressure</th>\n",
              "      <th>sea_level</th>\n",
              "      <th>grnd_level</th>\n",
              "      <th>humidity</th>\n",
              "      <th>main</th>\n",
              "      <th>description</th>\n",
              "      <th>clouds</th>\n",
              "      <th>wind_speed</th>\n",
              "      <th>wind_degree</th>\n",
              "      <th>date</th>\n",
              "      <th>day</th>\n",
              "      <th>time_of_record</th>\n",
              "    </tr>\n",
              "  </thead>\n",
              "  <tbody>\n",
              "    <tr>\n",
              "      <th>0</th>\n",
              "      <td>2020-01-27 14:30:00+05:30</td>\n",
              "      <td>22.49</td>\n",
              "      <td>21.43</td>\n",
              "      <td>22.49</td>\n",
              "      <td>1012</td>\n",
              "      <td>1012</td>\n",
              "      <td>985</td>\n",
              "      <td>38</td>\n",
              "      <td>Clouds</td>\n",
              "      <td>broken clouds</td>\n",
              "      <td>67</td>\n",
              "      <td>2.35</td>\n",
              "      <td>54</td>\n",
              "      <td>2020-01-27</td>\n",
              "      <td>Monday</td>\n",
              "      <td>14:30:00</td>\n",
              "    </tr>\n",
              "    <tr>\n",
              "      <th>1</th>\n",
              "      <td>2020-01-27 17:30:00+05:30</td>\n",
              "      <td>20.34</td>\n",
              "      <td>19.64</td>\n",
              "      <td>20.34</td>\n",
              "      <td>1010</td>\n",
              "      <td>1010</td>\n",
              "      <td>983</td>\n",
              "      <td>42</td>\n",
              "      <td>Clouds</td>\n",
              "      <td>broken clouds</td>\n",
              "      <td>68</td>\n",
              "      <td>2.95</td>\n",
              "      <td>102</td>\n",
              "      <td>2020-01-27</td>\n",
              "      <td>Monday</td>\n",
              "      <td>17:30:00</td>\n",
              "    </tr>\n",
              "    <tr>\n",
              "      <th>2</th>\n",
              "      <td>2020-01-27 20:30:00+05:30</td>\n",
              "      <td>17.86</td>\n",
              "      <td>17.51</td>\n",
              "      <td>17.86</td>\n",
              "      <td>1012</td>\n",
              "      <td>1012</td>\n",
              "      <td>985</td>\n",
              "      <td>48</td>\n",
              "      <td>Clouds</td>\n",
              "      <td>scattered clouds</td>\n",
              "      <td>35</td>\n",
              "      <td>2.60</td>\n",
              "      <td>106</td>\n",
              "      <td>2020-01-27</td>\n",
              "      <td>Monday</td>\n",
              "      <td>20:30:00</td>\n",
              "    </tr>\n",
              "    <tr>\n",
              "      <th>3</th>\n",
              "      <td>2020-01-27 23:30:00+05:30</td>\n",
              "      <td>16.64</td>\n",
              "      <td>16.64</td>\n",
              "      <td>16.64</td>\n",
              "      <td>1011</td>\n",
              "      <td>1011</td>\n",
              "      <td>984</td>\n",
              "      <td>50</td>\n",
              "      <td>Clouds</td>\n",
              "      <td>broken clouds</td>\n",
              "      <td>66</td>\n",
              "      <td>3.60</td>\n",
              "      <td>109</td>\n",
              "      <td>2020-01-27</td>\n",
              "      <td>Monday</td>\n",
              "      <td>23:30:00</td>\n",
              "    </tr>\n",
              "    <tr>\n",
              "      <th>4</th>\n",
              "      <td>2020-01-28 02:30:00+05:30</td>\n",
              "      <td>16.15</td>\n",
              "      <td>16.15</td>\n",
              "      <td>16.15</td>\n",
              "      <td>1010</td>\n",
              "      <td>1010</td>\n",
              "      <td>983</td>\n",
              "      <td>50</td>\n",
              "      <td>Clouds</td>\n",
              "      <td>scattered clouds</td>\n",
              "      <td>32</td>\n",
              "      <td>2.82</td>\n",
              "      <td>59</td>\n",
              "      <td>2020-01-28</td>\n",
              "      <td>Tuesday</td>\n",
              "      <td>02:30:00</td>\n",
              "    </tr>\n",
              "    <tr>\n",
              "      <th>...</th>\n",
              "      <td>...</td>\n",
              "      <td>...</td>\n",
              "      <td>...</td>\n",
              "      <td>...</td>\n",
              "      <td>...</td>\n",
              "      <td>...</td>\n",
              "      <td>...</td>\n",
              "      <td>...</td>\n",
              "      <td>...</td>\n",
              "      <td>...</td>\n",
              "      <td>...</td>\n",
              "      <td>...</td>\n",
              "      <td>...</td>\n",
              "      <td>...</td>\n",
              "      <td>...</td>\n",
              "      <td>...</td>\n",
              "    </tr>\n",
              "    <tr>\n",
              "      <th>15241</th>\n",
              "      <td>2021-02-20 02:30:00+05:30</td>\n",
              "      <td>19.62</td>\n",
              "      <td>19.62</td>\n",
              "      <td>19.62</td>\n",
              "      <td>1016</td>\n",
              "      <td>1016</td>\n",
              "      <td>990</td>\n",
              "      <td>24</td>\n",
              "      <td>Clear</td>\n",
              "      <td>clear sky</td>\n",
              "      <td>0</td>\n",
              "      <td>2.04</td>\n",
              "      <td>300</td>\n",
              "      <td>2021-02-20</td>\n",
              "      <td>Saturday</td>\n",
              "      <td>02:30:00</td>\n",
              "    </tr>\n",
              "    <tr>\n",
              "      <th>15242</th>\n",
              "      <td>2021-02-20 05:30:00+05:30</td>\n",
              "      <td>18.46</td>\n",
              "      <td>18.46</td>\n",
              "      <td>18.46</td>\n",
              "      <td>1015</td>\n",
              "      <td>1015</td>\n",
              "      <td>990</td>\n",
              "      <td>26</td>\n",
              "      <td>Clear</td>\n",
              "      <td>clear sky</td>\n",
              "      <td>0</td>\n",
              "      <td>1.18</td>\n",
              "      <td>268</td>\n",
              "      <td>2021-02-20</td>\n",
              "      <td>Saturday</td>\n",
              "      <td>05:30:00</td>\n",
              "    </tr>\n",
              "    <tr>\n",
              "      <th>15243</th>\n",
              "      <td>2021-02-20 08:30:00+05:30</td>\n",
              "      <td>19.84</td>\n",
              "      <td>19.84</td>\n",
              "      <td>19.84</td>\n",
              "      <td>1017</td>\n",
              "      <td>1017</td>\n",
              "      <td>992</td>\n",
              "      <td>24</td>\n",
              "      <td>Clear</td>\n",
              "      <td>clear sky</td>\n",
              "      <td>0</td>\n",
              "      <td>1.52</td>\n",
              "      <td>276</td>\n",
              "      <td>2021-02-20</td>\n",
              "      <td>Saturday</td>\n",
              "      <td>08:30:00</td>\n",
              "    </tr>\n",
              "    <tr>\n",
              "      <th>15244</th>\n",
              "      <td>2021-02-20 11:30:00+05:30</td>\n",
              "      <td>26.47</td>\n",
              "      <td>26.47</td>\n",
              "      <td>26.47</td>\n",
              "      <td>1018</td>\n",
              "      <td>1018</td>\n",
              "      <td>992</td>\n",
              "      <td>16</td>\n",
              "      <td>Clear</td>\n",
              "      <td>clear sky</td>\n",
              "      <td>0</td>\n",
              "      <td>2.22</td>\n",
              "      <td>237</td>\n",
              "      <td>2021-02-20</td>\n",
              "      <td>Saturday</td>\n",
              "      <td>11:30:00</td>\n",
              "    </tr>\n",
              "    <tr>\n",
              "      <th>15245</th>\n",
              "      <td>2021-02-20 14:30:00+05:30</td>\n",
              "      <td>29.70</td>\n",
              "      <td>29.70</td>\n",
              "      <td>29.70</td>\n",
              "      <td>1014</td>\n",
              "      <td>1014</td>\n",
              "      <td>989</td>\n",
              "      <td>13</td>\n",
              "      <td>Clear</td>\n",
              "      <td>clear sky</td>\n",
              "      <td>0</td>\n",
              "      <td>2.26</td>\n",
              "      <td>267</td>\n",
              "      <td>2021-02-20</td>\n",
              "      <td>Saturday</td>\n",
              "      <td>14:30:00</td>\n",
              "    </tr>\n",
              "  </tbody>\n",
              "</table>\n",
              "<p>15246 rows × 16 columns</p>\n",
              "</div>\n",
              "      <button class=\"colab-df-convert\" onclick=\"convertToInteractive('df-0572dd0a-8fec-4c2a-9c17-8844a09da67d')\"\n",
              "              title=\"Convert this dataframe to an interactive table.\"\n",
              "              style=\"display:none;\">\n",
              "        \n",
              "  <svg xmlns=\"http://www.w3.org/2000/svg\" height=\"24px\"viewBox=\"0 0 24 24\"\n",
              "       width=\"24px\">\n",
              "    <path d=\"M0 0h24v24H0V0z\" fill=\"none\"/>\n",
              "    <path d=\"M18.56 5.44l.94 2.06.94-2.06 2.06-.94-2.06-.94-.94-2.06-.94 2.06-2.06.94zm-11 1L8.5 8.5l.94-2.06 2.06-.94-2.06-.94L8.5 2.5l-.94 2.06-2.06.94zm10 10l.94 2.06.94-2.06 2.06-.94-2.06-.94-.94-2.06-.94 2.06-2.06.94z\"/><path d=\"M17.41 7.96l-1.37-1.37c-.4-.4-.92-.59-1.43-.59-.52 0-1.04.2-1.43.59L10.3 9.45l-7.72 7.72c-.78.78-.78 2.05 0 2.83L4 21.41c.39.39.9.59 1.41.59.51 0 1.02-.2 1.41-.59l7.78-7.78 2.81-2.81c.8-.78.8-2.07 0-2.86zM5.41 20L4 18.59l7.72-7.72 1.47 1.35L5.41 20z\"/>\n",
              "  </svg>\n",
              "      </button>\n",
              "      \n",
              "  <style>\n",
              "    .colab-df-container {\n",
              "      display:flex;\n",
              "      flex-wrap:wrap;\n",
              "      gap: 12px;\n",
              "    }\n",
              "\n",
              "    .colab-df-convert {\n",
              "      background-color: #E8F0FE;\n",
              "      border: none;\n",
              "      border-radius: 50%;\n",
              "      cursor: pointer;\n",
              "      display: none;\n",
              "      fill: #1967D2;\n",
              "      height: 32px;\n",
              "      padding: 0 0 0 0;\n",
              "      width: 32px;\n",
              "    }\n",
              "\n",
              "    .colab-df-convert:hover {\n",
              "      background-color: #E2EBFA;\n",
              "      box-shadow: 0px 1px 2px rgba(60, 64, 67, 0.3), 0px 1px 3px 1px rgba(60, 64, 67, 0.15);\n",
              "      fill: #174EA6;\n",
              "    }\n",
              "\n",
              "    [theme=dark] .colab-df-convert {\n",
              "      background-color: #3B4455;\n",
              "      fill: #D2E3FC;\n",
              "    }\n",
              "\n",
              "    [theme=dark] .colab-df-convert:hover {\n",
              "      background-color: #434B5C;\n",
              "      box-shadow: 0px 1px 3px 1px rgba(0, 0, 0, 0.15);\n",
              "      filter: drop-shadow(0px 1px 2px rgba(0, 0, 0, 0.3));\n",
              "      fill: #FFFFFF;\n",
              "    }\n",
              "  </style>\n",
              "\n",
              "      <script>\n",
              "        const buttonEl =\n",
              "          document.querySelector('#df-0572dd0a-8fec-4c2a-9c17-8844a09da67d button.colab-df-convert');\n",
              "        buttonEl.style.display =\n",
              "          google.colab.kernel.accessAllowed ? 'block' : 'none';\n",
              "\n",
              "        async function convertToInteractive(key) {\n",
              "          const element = document.querySelector('#df-0572dd0a-8fec-4c2a-9c17-8844a09da67d');\n",
              "          const dataTable =\n",
              "            await google.colab.kernel.invokeFunction('convertToInteractive',\n",
              "                                                     [key], {});\n",
              "          if (!dataTable) return;\n",
              "\n",
              "          const docLinkHtml = 'Like what you see? Visit the ' +\n",
              "            '<a target=\"_blank\" href=https://colab.research.google.com/notebooks/data_table.ipynb>data table notebook</a>'\n",
              "            + ' to learn more about interactive tables.';\n",
              "          element.innerHTML = '';\n",
              "          dataTable['output_type'] = 'display_data';\n",
              "          await google.colab.output.renderOutput(dataTable, element);\n",
              "          const docLink = document.createElement('div');\n",
              "          docLink.innerHTML = docLinkHtml;\n",
              "          element.appendChild(docLink);\n",
              "        }\n",
              "      </script>\n",
              "    </div>\n",
              "  </div>\n",
              "  "
            ]
          },
          "metadata": {},
          "execution_count": 1
        }
      ],
      "source": [
        "import pandas as pd\n",
        "df = pd.read_csv('Delhi_Weather_data.csv')\n",
        "df"
      ]
    },
    {
      "cell_type": "code",
      "source": [
        "df.isnull().values.any()"
      ],
      "metadata": {
        "colab": {
          "base_uri": "https://localhost:8080/"
        },
        "id": "i6PNQ9-u_irs",
        "outputId": "67b2120a-d271-4c8a-a485-58172a29dcb1"
      },
      "execution_count": null,
      "outputs": [
        {
          "output_type": "execute_result",
          "data": {
            "text/plain": [
              "False"
            ]
          },
          "metadata": {},
          "execution_count": 2
        }
      ]
    },
    {
      "cell_type": "code",
      "source": [
        "df.isnull().sum()"
      ],
      "metadata": {
        "colab": {
          "base_uri": "https://localhost:8080/"
        },
        "id": "q0OF8KhaNIe6",
        "outputId": "9c00e2ec-d85f-4208-d06e-64e970543ea2"
      },
      "execution_count": null,
      "outputs": [
        {
          "output_type": "execute_result",
          "data": {
            "text/plain": [
              "dt_txt            0\n",
              "temp              0\n",
              "temp_min          0\n",
              "temp_max          0\n",
              "pressure          0\n",
              "sea_level         0\n",
              "grnd_level        0\n",
              "humidity          0\n",
              "main              0\n",
              "description       0\n",
              "clouds            0\n",
              "wind_speed        0\n",
              "wind_degree       0\n",
              "date              0\n",
              "day               0\n",
              "time_of_record    0\n",
              "dtype: int64"
            ]
          },
          "metadata": {},
          "execution_count": 3
        }
      ]
    },
    {
      "cell_type": "code",
      "source": [
        "df['dt_txt']=pd.to_datetime(df['dt_txt'])\n",
        "df['temp'].fillna(df['temp'].mean(), inplace=True)\n",
        "df = df[['dt_txt', 'temp']]\n",
        "df"
      ],
      "metadata": {
        "colab": {
          "base_uri": "https://localhost:8080/",
          "height": 424
        },
        "id": "T7WULigGNM5h",
        "outputId": "2673c953-eda0-4163-b9ab-0d286d74a855"
      },
      "execution_count": null,
      "outputs": [
        {
          "output_type": "execute_result",
          "data": {
            "text/plain": [
              "                         dt_txt   temp\n",
              "0     2020-01-27 14:30:00+05:30  22.49\n",
              "1     2020-01-27 17:30:00+05:30  20.34\n",
              "2     2020-01-27 20:30:00+05:30  17.86\n",
              "3     2020-01-27 23:30:00+05:30  16.64\n",
              "4     2020-01-28 02:30:00+05:30  16.15\n",
              "...                         ...    ...\n",
              "15241 2021-02-20 02:30:00+05:30  19.62\n",
              "15242 2021-02-20 05:30:00+05:30  18.46\n",
              "15243 2021-02-20 08:30:00+05:30  19.84\n",
              "15244 2021-02-20 11:30:00+05:30  26.47\n",
              "15245 2021-02-20 14:30:00+05:30  29.70\n",
              "\n",
              "[15246 rows x 2 columns]"
            ],
            "text/html": [
              "\n",
              "  <div id=\"df-f0de4ccf-7541-4271-b303-8ccc4cf8619d\">\n",
              "    <div class=\"colab-df-container\">\n",
              "      <div>\n",
              "<style scoped>\n",
              "    .dataframe tbody tr th:only-of-type {\n",
              "        vertical-align: middle;\n",
              "    }\n",
              "\n",
              "    .dataframe tbody tr th {\n",
              "        vertical-align: top;\n",
              "    }\n",
              "\n",
              "    .dataframe thead th {\n",
              "        text-align: right;\n",
              "    }\n",
              "</style>\n",
              "<table border=\"1\" class=\"dataframe\">\n",
              "  <thead>\n",
              "    <tr style=\"text-align: right;\">\n",
              "      <th></th>\n",
              "      <th>dt_txt</th>\n",
              "      <th>temp</th>\n",
              "    </tr>\n",
              "  </thead>\n",
              "  <tbody>\n",
              "    <tr>\n",
              "      <th>0</th>\n",
              "      <td>2020-01-27 14:30:00+05:30</td>\n",
              "      <td>22.49</td>\n",
              "    </tr>\n",
              "    <tr>\n",
              "      <th>1</th>\n",
              "      <td>2020-01-27 17:30:00+05:30</td>\n",
              "      <td>20.34</td>\n",
              "    </tr>\n",
              "    <tr>\n",
              "      <th>2</th>\n",
              "      <td>2020-01-27 20:30:00+05:30</td>\n",
              "      <td>17.86</td>\n",
              "    </tr>\n",
              "    <tr>\n",
              "      <th>3</th>\n",
              "      <td>2020-01-27 23:30:00+05:30</td>\n",
              "      <td>16.64</td>\n",
              "    </tr>\n",
              "    <tr>\n",
              "      <th>4</th>\n",
              "      <td>2020-01-28 02:30:00+05:30</td>\n",
              "      <td>16.15</td>\n",
              "    </tr>\n",
              "    <tr>\n",
              "      <th>...</th>\n",
              "      <td>...</td>\n",
              "      <td>...</td>\n",
              "    </tr>\n",
              "    <tr>\n",
              "      <th>15241</th>\n",
              "      <td>2021-02-20 02:30:00+05:30</td>\n",
              "      <td>19.62</td>\n",
              "    </tr>\n",
              "    <tr>\n",
              "      <th>15242</th>\n",
              "      <td>2021-02-20 05:30:00+05:30</td>\n",
              "      <td>18.46</td>\n",
              "    </tr>\n",
              "    <tr>\n",
              "      <th>15243</th>\n",
              "      <td>2021-02-20 08:30:00+05:30</td>\n",
              "      <td>19.84</td>\n",
              "    </tr>\n",
              "    <tr>\n",
              "      <th>15244</th>\n",
              "      <td>2021-02-20 11:30:00+05:30</td>\n",
              "      <td>26.47</td>\n",
              "    </tr>\n",
              "    <tr>\n",
              "      <th>15245</th>\n",
              "      <td>2021-02-20 14:30:00+05:30</td>\n",
              "      <td>29.70</td>\n",
              "    </tr>\n",
              "  </tbody>\n",
              "</table>\n",
              "<p>15246 rows × 2 columns</p>\n",
              "</div>\n",
              "      <button class=\"colab-df-convert\" onclick=\"convertToInteractive('df-f0de4ccf-7541-4271-b303-8ccc4cf8619d')\"\n",
              "              title=\"Convert this dataframe to an interactive table.\"\n",
              "              style=\"display:none;\">\n",
              "        \n",
              "  <svg xmlns=\"http://www.w3.org/2000/svg\" height=\"24px\"viewBox=\"0 0 24 24\"\n",
              "       width=\"24px\">\n",
              "    <path d=\"M0 0h24v24H0V0z\" fill=\"none\"/>\n",
              "    <path d=\"M18.56 5.44l.94 2.06.94-2.06 2.06-.94-2.06-.94-.94-2.06-.94 2.06-2.06.94zm-11 1L8.5 8.5l.94-2.06 2.06-.94-2.06-.94L8.5 2.5l-.94 2.06-2.06.94zm10 10l.94 2.06.94-2.06 2.06-.94-2.06-.94-.94-2.06-.94 2.06-2.06.94z\"/><path d=\"M17.41 7.96l-1.37-1.37c-.4-.4-.92-.59-1.43-.59-.52 0-1.04.2-1.43.59L10.3 9.45l-7.72 7.72c-.78.78-.78 2.05 0 2.83L4 21.41c.39.39.9.59 1.41.59.51 0 1.02-.2 1.41-.59l7.78-7.78 2.81-2.81c.8-.78.8-2.07 0-2.86zM5.41 20L4 18.59l7.72-7.72 1.47 1.35L5.41 20z\"/>\n",
              "  </svg>\n",
              "      </button>\n",
              "      \n",
              "  <style>\n",
              "    .colab-df-container {\n",
              "      display:flex;\n",
              "      flex-wrap:wrap;\n",
              "      gap: 12px;\n",
              "    }\n",
              "\n",
              "    .colab-df-convert {\n",
              "      background-color: #E8F0FE;\n",
              "      border: none;\n",
              "      border-radius: 50%;\n",
              "      cursor: pointer;\n",
              "      display: none;\n",
              "      fill: #1967D2;\n",
              "      height: 32px;\n",
              "      padding: 0 0 0 0;\n",
              "      width: 32px;\n",
              "    }\n",
              "\n",
              "    .colab-df-convert:hover {\n",
              "      background-color: #E2EBFA;\n",
              "      box-shadow: 0px 1px 2px rgba(60, 64, 67, 0.3), 0px 1px 3px 1px rgba(60, 64, 67, 0.15);\n",
              "      fill: #174EA6;\n",
              "    }\n",
              "\n",
              "    [theme=dark] .colab-df-convert {\n",
              "      background-color: #3B4455;\n",
              "      fill: #D2E3FC;\n",
              "    }\n",
              "\n",
              "    [theme=dark] .colab-df-convert:hover {\n",
              "      background-color: #434B5C;\n",
              "      box-shadow: 0px 1px 3px 1px rgba(0, 0, 0, 0.15);\n",
              "      filter: drop-shadow(0px 1px 2px rgba(0, 0, 0, 0.3));\n",
              "      fill: #FFFFFF;\n",
              "    }\n",
              "  </style>\n",
              "\n",
              "      <script>\n",
              "        const buttonEl =\n",
              "          document.querySelector('#df-f0de4ccf-7541-4271-b303-8ccc4cf8619d button.colab-df-convert');\n",
              "        buttonEl.style.display =\n",
              "          google.colab.kernel.accessAllowed ? 'block' : 'none';\n",
              "\n",
              "        async function convertToInteractive(key) {\n",
              "          const element = document.querySelector('#df-f0de4ccf-7541-4271-b303-8ccc4cf8619d');\n",
              "          const dataTable =\n",
              "            await google.colab.kernel.invokeFunction('convertToInteractive',\n",
              "                                                     [key], {});\n",
              "          if (!dataTable) return;\n",
              "\n",
              "          const docLinkHtml = 'Like what you see? Visit the ' +\n",
              "            '<a target=\"_blank\" href=https://colab.research.google.com/notebooks/data_table.ipynb>data table notebook</a>'\n",
              "            + ' to learn more about interactive tables.';\n",
              "          element.innerHTML = '';\n",
              "          dataTable['output_type'] = 'display_data';\n",
              "          await google.colab.output.renderOutput(dataTable, element);\n",
              "          const docLink = document.createElement('div');\n",
              "          docLink.innerHTML = docLinkHtml;\n",
              "          element.appendChild(docLink);\n",
              "        }\n",
              "      </script>\n",
              "    </div>\n",
              "  </div>\n",
              "  "
            ]
          },
          "metadata": {},
          "execution_count": 4
        }
      ]
    },
    {
      "cell_type": "code",
      "source": [
        "# mengubah kolom dt_txt menjadi date dan buat df baru bernama citynew\n",
        "city = df[['dt_txt', 'temp']].copy()\n",
        "city['date'] = city['dt_txt'].dt.date\n",
        "citynew = city.drop('dt_txt', axis=1)\n",
        "citynew.set_index('date', inplace=True)\n",
        "citynew.head"
      ],
      "metadata": {
        "colab": {
          "base_uri": "https://localhost:8080/"
        },
        "id": "TfX9-ny6OLZ2",
        "outputId": "4be038b1-21fb-4116-bd75-4b413ae5c814"
      },
      "execution_count": null,
      "outputs": [
        {
          "output_type": "execute_result",
          "data": {
            "text/plain": [
              "<bound method NDFrame.head of              temp\n",
              "date             \n",
              "2020-01-27  22.49\n",
              "2020-01-27  20.34\n",
              "2020-01-27  17.86\n",
              "2020-01-27  16.64\n",
              "2020-01-28  16.15\n",
              "...           ...\n",
              "2021-02-20  19.62\n",
              "2021-02-20  18.46\n",
              "2021-02-20  19.84\n",
              "2021-02-20  26.47\n",
              "2021-02-20  29.70\n",
              "\n",
              "[15246 rows x 1 columns]>"
            ]
          },
          "metadata": {},
          "execution_count": 5
        }
      ]
    },
    {
      "cell_type": "code",
      "source": [
        "citynew.info()"
      ],
      "metadata": {
        "colab": {
          "base_uri": "https://localhost:8080/"
        },
        "id": "LDETC4WXQkG0",
        "outputId": "1231bdb1-b17a-46e0-bcb6-b07942f99b6e"
      },
      "execution_count": null,
      "outputs": [
        {
          "output_type": "stream",
          "name": "stdout",
          "text": [
            "<class 'pandas.core.frame.DataFrame'>\n",
            "Index: 15246 entries, 2020-01-27 to 2021-02-20\n",
            "Data columns (total 1 columns):\n",
            " #   Column  Non-Null Count  Dtype  \n",
            "---  ------  --------------  -----  \n",
            " 0   temp    15246 non-null  float64\n",
            "dtypes: float64(1)\n",
            "memory usage: 238.2+ KB\n"
          ]
        }
      ]
    },
    {
      "cell_type": "code",
      "source": [
        "dates = df['dt_txt'].values\n",
        "temper = df['temp'].values\n",
        "\n",
        "import matplotlib.pyplot as plt\n",
        "plt.figure(figsize=(15,10))\n",
        "plt.plot(dates, temper)\n",
        "plt.title('Delhi Weather Temperature')\n",
        "plt.xlabel('Date')\n",
        "plt.ylabel('Temperature')\n",
        "plt.show()"
      ],
      "metadata": {
        "colab": {
          "base_uri": "https://localhost:8080/",
          "height": 621
        },
        "id": "FCAGoVDdARtr",
        "outputId": "e8314ac0-2eff-4832-ccb7-387322be5ee1"
      },
      "execution_count": null,
      "outputs": [
        {
          "output_type": "display_data",
          "data": {
            "text/plain": [
              "<Figure size 1080x720 with 1 Axes>"
            ],
            "image/png": "[encoded data removed]"
          },
          "metadata": {
            "needs_background": "light"
          }
        }
      ]
    },
    {
      "cell_type": "code",
      "source": [
        "import tensorflow as tf\n",
        "def windowed_dataset(series, window_size, batch_size, shuffle_buffer):\n",
        "  series = tf.expand_dims(series, axis=-1)\n",
        "  ds = tf.data.Dataset.from_tensor_slices(series)\n",
        "  ds = ds.window(window_size + 1, shift=1, drop_remainder=True)\n",
        "  ds = ds.flat_map(lambda w: w.batch(window_size +1))\n",
        "  ds = ds.shuffle(shuffle_buffer)\n",
        "  ds = ds.map(lambda w: (w[:-1], w[-1:]))\n",
        "  return ds.batch(batch_size).prefetch(1)"
      ],
      "metadata": {
        "id": "HI4QMZl1FXBv"
      },
      "execution_count": null,
      "outputs": []
    },
    {
      "cell_type": "code",
      "source": [
        "from sklearn.model_selection import train_test_split\n",
        "x_train, x_test, y_train, y_test= train_test_split(temper, dates, test_size=0.2, random_state=0, shuffle=False)\n",
        "print(len(x_train), len(x_test))"
      ],
      "metadata": {
        "colab": {
          "base_uri": "https://localhost:8080/"
        },
        "id": "ik2k52XTSImf",
        "outputId": "f598a693-9acf-446f-c9cf-f1b742b7c2e2"
      },
      "execution_count": null,
      "outputs": [
        {
          "output_type": "stream",
          "name": "stdout",
          "text": [
            "12196 3050\n"
          ]
        }
      ]
    },
    {
      "cell_type": "code",
      "source": [
        "# model\n",
        "data_x_train = windowed_dataset(x_train, window_size=60, batch_size=100, shuffle_buffer=2000)\n",
        "data_x_test = windowed_dataset(x_test, window_size=60, batch_size=100, shuffle_buffer=2000)\n",
        "model = tf.keras.models.Sequential([\n",
        "    tf.keras.layers.LSTM(64, return_sequences=True),\n",
        "    tf.keras.layers.Dense(30, activation='relu'),\n",
        "    tf.keras.layers.Dense(1),\n",
        "    tf.keras.layers.Lambda(lambda x: x * 400)\n",
        "])\n",
        "\n",
        "# optimizer learning rate\n",
        "lr_sch = tf.keras.callbacks.LearningRateScheduler(\n",
        "    lambda epoch: 1e-8 * 10**(epoch / 20))\n",
        "optimizer = tf.keras.optimizers.SGD(learning_rate=1e-8, momentum=0.9)\n",
        "model.compile(loss=tf.keras.losses.Huber(),\n",
        "              optimizer=optimizer,\n",
        "              metrics=['mae'])"
      ],
      "metadata": {
        "id": "FTQ2g9sza8aP"
      },
      "execution_count": null,
      "outputs": []
    },
    {
      "cell_type": "code",
      "source": [
        "max = df['temp'].max()\n",
        "print('Max: ', max)\n",
        "min = df['temp'].min()\n",
        "print('Min:', min)"
      ],
      "metadata": {
        "colab": {
          "base_uri": "https://localhost:8080/"
        },
        "id": "bwTUS3UheRE9",
        "outputId": "57997bf8-b373-423e-85a9-81c34693917d"
      },
      "execution_count": null,
      "outputs": [
        {
          "output_type": "stream",
          "name": "stdout",
          "text": [
            "Max:  47.92\n",
            "Min: 9.96\n"
          ]
        }
      ]
    },
    {
      "cell_type": "code",
      "source": [
        "x = (max-min) * (10/100)\n",
        "print(x)"
      ],
      "metadata": {
        "colab": {
          "base_uri": "https://localhost:8080/"
        },
        "id": "rtrxQmJulfa7",
        "outputId": "66c2262b-198c-4ca4-c870-a9d84b48e7a2"
      },
      "execution_count": null,
      "outputs": [
        {
          "output_type": "stream",
          "name": "stdout",
          "text": [
            "3.7960000000000003\n"
          ]
        }
      ]
    },
    {
      "cell_type": "code",
      "source": [
        "class myCallback(tf.keras.callbacks.Callback):\n",
        "  def on_epoch_end(self, epoch, logs={}):\n",
        "    if(logs.get('mae')<x):\n",
        "      print(\"Training dihentikan karena mae <10% dari skala data\")\n",
        "      self.model.stop_training = True\n",
        "\n",
        "callbacks = myCallback()"
      ],
      "metadata": {
        "id": "rSBuEejelw0z"
      },
      "execution_count": null,
      "outputs": []
    },
    {
      "cell_type": "code",
      "source": [
        "tf.keras.backend.set_floatx('float64')\n",
        "history = model.fit(data_x_train, epochs=70, \n",
        "                    validation_data=data_x_test,\n",
        "                    callbacks=[callbacks])"
      ],
      "metadata": {
        "colab": {
          "base_uri": "https://localhost:8080/"
        },
        "id": "lI195fE3oCFS",
        "outputId": "a6763c93-d6a9-4253-f1d7-db568dcc0c95"
      },
      "execution_count": null,
      "outputs": [
        {
          "output_type": "stream",
          "name": "stdout",
          "text": [
            "Epoch 1/70\n",
            "122/122 [==============================] - 15s 53ms/step - loss: 81.9039 - mae: 82.4036 - val_loss: 35.9627 - val_mae: 36.4624\n",
            "Epoch 2/70\n",
            "122/122 [==============================] - 3s 20ms/step - loss: 26.9682 - mae: 27.4643 - val_loss: 11.0286 - val_mae: 11.5192\n",
            "Epoch 3/70\n",
            "122/122 [==============================] - 3s 20ms/step - loss: 12.3192 - mae: 12.8095 - val_loss: 11.1303 - val_mae: 11.6213\n",
            "Epoch 4/70\n",
            "122/122 [==============================] - 3s 20ms/step - loss: 11.3819 - mae: 11.8710 - val_loss: 11.2494 - val_mae: 11.7404\n",
            "Epoch 5/70\n",
            "122/122 [==============================] - 3s 20ms/step - loss: 10.6653 - mae: 11.1532 - val_loss: 11.3348 - val_mae: 11.8259\n",
            "Epoch 6/70\n",
            "122/122 [==============================] - 3s 20ms/step - loss: 10.0549 - mae: 10.5419 - val_loss: 11.3837 - val_mae: 11.8748\n",
            "Epoch 7/70\n",
            "122/122 [==============================] - 3s 20ms/step - loss: 9.5318 - mae: 10.0178 - val_loss: 11.3677 - val_mae: 11.8586\n",
            "Epoch 8/70\n",
            "122/122 [==============================] - 3s 21ms/step - loss: 9.0502 - mae: 9.5355 - val_loss: 11.3100 - val_mae: 11.8007\n",
            "Epoch 9/70\n",
            "122/122 [==============================] - 3s 21ms/step - loss: 8.6141 - mae: 9.0987 - val_loss: 11.2126 - val_mae: 11.7033\n",
            "Epoch 10/70\n",
            "122/122 [==============================] - 3s 21ms/step - loss: 8.1912 - mae: 8.6751 - val_loss: 11.1037 - val_mae: 11.5943\n",
            "Epoch 11/70\n",
            "122/122 [==============================] - 3s 20ms/step - loss: 7.7849 - mae: 8.2682 - val_loss: 10.9675 - val_mae: 11.4581\n",
            "Epoch 12/70\n",
            "122/122 [==============================] - 3s 21ms/step - loss: 7.4210 - mae: 7.9037 - val_loss: 10.7890 - val_mae: 11.2795\n",
            "Epoch 13/70\n",
            "122/122 [==============================] - 3s 21ms/step - loss: 7.0611 - mae: 7.5433 - val_loss: 10.6096 - val_mae: 11.1001\n",
            "Epoch 14/70\n",
            "122/122 [==============================] - 3s 21ms/step - loss: 6.7198 - mae: 7.2011 - val_loss: 10.4261 - val_mae: 10.9165\n",
            "Epoch 15/70\n",
            "122/122 [==============================] - 3s 21ms/step - loss: 6.4041 - mae: 6.8849 - val_loss: 10.2266 - val_mae: 10.7168\n",
            "Epoch 16/70\n",
            "122/122 [==============================] - 3s 21ms/step - loss: 6.1080 - mae: 6.5886 - val_loss: 10.0165 - val_mae: 10.5064\n",
            "Epoch 17/70\n",
            "122/122 [==============================] - 3s 21ms/step - loss: 5.8383 - mae: 6.3180 - val_loss: 9.7887 - val_mae: 10.2782\n",
            "Epoch 18/70\n",
            "122/122 [==============================] - 3s 20ms/step - loss: 5.5807 - mae: 6.0600 - val_loss: 9.5592 - val_mae: 10.0483\n",
            "Epoch 19/70\n",
            "122/122 [==============================] - 3s 20ms/step - loss: 5.3401 - mae: 5.8191 - val_loss: 9.3459 - val_mae: 9.8344\n",
            "Epoch 20/70\n",
            "122/122 [==============================] - 3s 20ms/step - loss: 5.1256 - mae: 5.6035 - val_loss: 9.1109 - val_mae: 9.5990\n",
            "Epoch 21/70\n",
            "122/122 [==============================] - 3s 21ms/step - loss: 4.9344 - mae: 5.4118 - val_loss: 8.8837 - val_mae: 9.3713\n",
            "Epoch 22/70\n",
            "122/122 [==============================] - 3s 20ms/step - loss: 4.7688 - mae: 5.2459 - val_loss: 8.6414 - val_mae: 9.1286\n",
            "Epoch 23/70\n",
            "122/122 [==============================] - 3s 21ms/step - loss: 4.6186 - mae: 5.0951 - val_loss: 8.4209 - val_mae: 8.9075\n",
            "Epoch 24/70\n",
            "122/122 [==============================] - 3s 20ms/step - loss: 4.4943 - mae: 4.9704 - val_loss: 8.1916 - val_mae: 8.6777\n",
            "Epoch 25/70\n",
            "122/122 [==============================] - 3s 20ms/step - loss: 4.3691 - mae: 4.8451 - val_loss: 7.9781 - val_mae: 8.4639\n",
            "Epoch 26/70\n",
            "122/122 [==============================] - 3s 21ms/step - loss: 4.2736 - mae: 4.7490 - val_loss: 7.7643 - val_mae: 8.2497\n",
            "Epoch 27/70\n",
            "122/122 [==============================] - 3s 21ms/step - loss: 4.2014 - mae: 4.6765 - val_loss: 7.5655 - val_mae: 8.0504\n",
            "Epoch 28/70\n",
            "122/122 [==============================] - 3s 21ms/step - loss: 4.1220 - mae: 4.5969 - val_loss: 7.3723 - val_mae: 7.8568\n",
            "Epoch 29/70\n",
            "122/122 [==============================] - 3s 21ms/step - loss: 4.0548 - mae: 4.5293 - val_loss: 7.1925 - val_mae: 7.6768\n",
            "Epoch 30/70\n",
            "122/122 [==============================] - 3s 21ms/step - loss: 3.9936 - mae: 4.4680 - val_loss: 7.0192 - val_mae: 7.5032\n",
            "Epoch 31/70\n",
            "122/122 [==============================] - 3s 20ms/step - loss: 3.9527 - mae: 4.4269 - val_loss: 6.8550 - val_mae: 7.3387\n",
            "Epoch 32/70\n",
            "122/122 [==============================] - 3s 21ms/step - loss: 3.9080 - mae: 4.3822 - val_loss: 6.6990 - val_mae: 7.1824\n",
            "Epoch 33/70\n",
            "122/122 [==============================] - 3s 22ms/step - loss: 3.8677 - mae: 4.3420 - val_loss: 6.5568 - val_mae: 7.0400\n",
            "Epoch 34/70\n",
            "122/122 [==============================] - 3s 21ms/step - loss: 3.8364 - mae: 4.3105 - val_loss: 6.4166 - val_mae: 6.8996\n",
            "Epoch 35/70\n",
            "122/122 [==============================] - 4s 26ms/step - loss: 3.8044 - mae: 4.2782 - val_loss: 6.2888 - val_mae: 6.7718\n",
            "Epoch 36/70\n",
            "122/122 [==============================] - 3s 21ms/step - loss: 3.7746 - mae: 4.2484 - val_loss: 6.1682 - val_mae: 6.6509\n",
            "Epoch 37/70\n",
            "122/122 [==============================] - 3s 20ms/step - loss: 3.7445 - mae: 4.2181 - val_loss: 6.0515 - val_mae: 6.5338\n",
            "Epoch 38/70\n",
            "122/122 [==============================] - 3s 21ms/step - loss: 3.7200 - mae: 4.1935 - val_loss: 5.9492 - val_mae: 6.4314\n",
            "Epoch 39/70\n",
            "122/122 [==============================] - 3s 20ms/step - loss: 3.6859 - mae: 4.1592 - val_loss: 5.8337 - val_mae: 6.3154\n",
            "Epoch 40/70\n",
            "122/122 [==============================] - 3s 20ms/step - loss: 3.6770 - mae: 4.1504 - val_loss: 5.7532 - val_mae: 6.2351\n",
            "Epoch 41/70\n",
            "122/122 [==============================] - 3s 20ms/step - loss: 3.6462 - mae: 4.1195 - val_loss: 5.6542 - val_mae: 6.1358\n",
            "Epoch 42/70\n",
            "122/122 [==============================] - 3s 21ms/step - loss: 3.6329 - mae: 4.1060 - val_loss: 5.5739 - val_mae: 6.0552\n",
            "Epoch 43/70\n",
            "122/122 [==============================] - 3s 20ms/step - loss: 3.6095 - mae: 4.0826 - val_loss: 5.4988 - val_mae: 5.9800\n",
            "Epoch 44/70\n",
            "122/122 [==============================] - 3s 21ms/step - loss: 3.5904 - mae: 4.0634 - val_loss: 5.4167 - val_mae: 5.8975\n",
            "Epoch 45/70\n",
            "122/122 [==============================] - 3s 21ms/step - loss: 3.5762 - mae: 4.0492 - val_loss: 5.3538 - val_mae: 5.8345\n",
            "Epoch 46/70\n",
            "122/122 [==============================] - 3s 20ms/step - loss: 3.5592 - mae: 4.0323 - val_loss: 5.2892 - val_mae: 5.7699\n",
            "Epoch 47/70\n",
            "122/122 [==============================] - 3s 21ms/step - loss: 3.5476 - mae: 4.0206 - val_loss: 5.2240 - val_mae: 5.7046\n",
            "Epoch 48/70\n",
            "122/122 [==============================] - 3s 21ms/step - loss: 3.5251 - mae: 3.9979 - val_loss: 5.1516 - val_mae: 5.6318\n",
            "Epoch 49/70\n",
            "122/122 [==============================] - 3s 22ms/step - loss: 3.5169 - mae: 3.9896 - val_loss: 5.0970 - val_mae: 5.5770\n",
            "Epoch 50/70\n",
            "122/122 [==============================] - 3s 21ms/step - loss: 3.5064 - mae: 3.9792 - val_loss: 5.0459 - val_mae: 5.5258\n",
            "Epoch 51/70\n",
            "122/122 [==============================] - 3s 21ms/step - loss: 3.4959 - mae: 3.9686 - val_loss: 4.9906 - val_mae: 5.4704\n",
            "Epoch 52/70\n",
            "122/122 [==============================] - 3s 21ms/step - loss: 3.4800 - mae: 3.9526 - val_loss: 4.9338 - val_mae: 5.4134\n",
            "Epoch 53/70\n",
            "122/122 [==============================] - 3s 21ms/step - loss: 3.4688 - mae: 3.9412 - val_loss: 4.8914 - val_mae: 5.3709\n",
            "Epoch 54/70\n",
            "122/122 [==============================] - 3s 21ms/step - loss: 3.4474 - mae: 3.9199 - val_loss: 4.8551 - val_mae: 5.3345\n",
            "Epoch 55/70\n",
            "122/122 [==============================] - 3s 21ms/step - loss: 3.4384 - mae: 3.9107 - val_loss: 4.7938 - val_mae: 5.2730\n",
            "Epoch 56/70\n",
            "122/122 [==============================] - 3s 21ms/step - loss: 3.4323 - mae: 3.9048 - val_loss: 4.7612 - val_mae: 5.2403\n",
            "Epoch 57/70\n",
            "122/122 [==============================] - 3s 21ms/step - loss: 3.4243 - mae: 3.8968 - val_loss: 4.7275 - val_mae: 5.2067\n",
            "Epoch 58/70\n",
            "122/122 [==============================] - 3s 21ms/step - loss: 3.4084 - mae: 3.8807 - val_loss: 4.6639 - val_mae: 5.1428\n",
            "Epoch 59/70\n",
            "122/122 [==============================] - 3s 21ms/step - loss: 3.4062 - mae: 3.8784 - val_loss: 4.6494 - val_mae: 5.1283\n",
            "Epoch 60/70\n",
            "122/122 [==============================] - 3s 21ms/step - loss: 3.3925 - mae: 3.8648 - val_loss: 4.6009 - val_mae: 5.0795\n",
            "Epoch 61/70\n",
            "122/122 [==============================] - 3s 21ms/step - loss: 3.3868 - mae: 3.8590 - val_loss: 4.5735 - val_mae: 5.0521\n",
            "Epoch 62/70\n",
            "122/122 [==============================] - 3s 21ms/step - loss: 3.3776 - mae: 3.8499 - val_loss: 4.5553 - val_mae: 5.0338\n",
            "Epoch 63/70\n",
            "122/122 [==============================] - 3s 21ms/step - loss: 3.3653 - mae: 3.8374 - val_loss: 4.5048 - val_mae: 4.9832\n",
            "Epoch 64/70\n",
            "122/122 [==============================] - 3s 21ms/step - loss: 3.3572 - mae: 3.8294 - val_loss: 4.4778 - val_mae: 4.9562\n",
            "Epoch 65/70\n",
            "122/122 [==============================] - 3s 22ms/step - loss: 3.3531 - mae: 3.8253 - val_loss: 4.4613 - val_mae: 4.9397\n",
            "Epoch 66/70\n",
            "122/122 [==============================] - 3s 21ms/step - loss: 3.3435 - mae: 3.8157 - val_loss: 4.4202 - val_mae: 4.8985\n",
            "Epoch 67/70\n",
            "122/122 [==============================] - 3s 21ms/step - loss: 3.3370 - mae: 3.8092 - val_loss: 4.3873 - val_mae: 4.8656\n",
            "Epoch 68/70\n",
            "122/122 [==============================] - 3s 21ms/step - loss: 3.3288 - mae: 3.8009 - val_loss: 4.3579 - val_mae: 4.8361\n",
            "Epoch 69/70\n",
            "121/122 [============================>.] - ETA: 0s - loss: 3.3191 - mae: 3.7912Training dihentikan karena mae <10% dari skala data\n",
            "122/122 [==============================] - 3s 21ms/step - loss: 3.3192 - mae: 3.7913 - val_loss: 4.3148 - val_mae: 4.7929\n"
          ]
        }
      ]
    },
    {
      "cell_type": "code",
      "source": [
        "import matplotlib.pyplot as plt\n",
        "plt.plot(history.history['mae'])\n",
        "plt.plot(history.history['val_mae'])\n",
        "plt.title('MAE')\n",
        "plt.xlabel('Epoch')\n",
        "plt.ylabel('MAE')\n",
        "plt.legend(['train', 'test'], loc='upper right')\n",
        "plt.show()"
      ],
      "metadata": {
        "colab": {
          "base_uri": "https://localhost:8080/",
          "height": 295
        },
        "id": "LVj3ZFPDz5Hg",
        "outputId": "2768d53f-e05c-4540-b5ab-fb92afb0c4e3"
      },
      "execution_count": null,
      "outputs": [
        {
          "output_type": "display_data",
          "data": {
            "text/plain": [
              "<Figure size 432x288 with 1 Axes>"
            ],
            "image/png": "[encoded data removed]"
          },
          "metadata": {
            "needs_background": "light"
          }
        }
      ]
    },
    {
      "cell_type": "code",
      "source": [
        "# plot loss\n",
        "plt.plot(history.history['loss'])\n",
        "plt.plot(history.history['val_loss'])\n",
        "plt.title('Model Loss')\n",
        "plt.xlabel('Epoch')\n",
        "plt.ylabel('Loss')\n",
        "plt.legend(['train', 'test'], loc='upper right')\n",
        "plt.show()"
      ],
      "metadata": {
        "colab": {
          "base_uri": "https://localhost:8080/",
          "height": 295
        },
        "id": "Ox514oyJ_0w0",
        "outputId": "ff0cee4e-9aad-429b-8b22-40ff4963423e"
      },
      "execution_count": null,
      "outputs": [
        {
          "output_type": "display_data",
          "data": {
            "text/plain": [
              "<Figure size 432x288 with 1 Axes>"
            ],
            "image/png": "[encoded data removed]"
          },
          "metadata": {
            "needs_background": "light"
          }
        }
      ]
    }
  ]
}